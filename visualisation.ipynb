{
 "cells": [
  {
   "cell_type": "code",
   "execution_count": 1,
   "metadata": {},
   "outputs": [],
   "source": [
    "%matplotlib widget\n",
    "import ipywidgets as widgets\n",
    "import matplotlib.pyplot as plt\n",
    "import numpy as np\n",
    "from scipy import stats\n",
    "\n",
    "\n",
    "size = 100\n",
    "p = 0.7\n",
    "probe = stats.bernoulli.rvs(p, size=size)\n",
    "\n",
    "init_alpha = init_beta = 1\n",
    "alpha_values = init_alpha + (probe == 1).cumsum()\n",
    "alpha_values = np.insert(alpha_values, 0, init_alpha)\n",
    "beta_values = init_beta + (probe == 0).cumsum()\n",
    "beta_values = np.insert(beta_values, 0, init_beta)\n",
    "\n",
    "x = np.linspace(0, 1, 1000)"
   ]
  },
  {
   "cell_type": "code",
   "execution_count": 2,
   "metadata": {
    "scrolled": false
   },
   "outputs": [
    {
     "data": {
      "application/vnd.jupyter.widget-view+json": {
       "model_id": "e1c3752290ee49cba6f06a3b5cad178e",
       "version_major": 2,
       "version_minor": 0
      },
      "text/plain": [
       "Canvas(toolbar=Toolbar(toolitems=[('Home', 'Reset original view', 'home', 'home'), ('Back', 'Back to previous …"
      ]
     },
     "metadata": {},
     "output_type": "display_data"
    },
    {
     "data": {
      "application/vnd.jupyter.widget-view+json": {
       "model_id": "011c8d30df50483f98c2015a601683af",
       "version_major": 2,
       "version_minor": 0
      },
      "text/plain": [
       "interactive(children=(IntSlider(value=0, description='n', max=99), Output()), _dom_classes=('widget-interact',…"
      ]
     },
     "metadata": {},
     "output_type": "display_data"
    }
   ],
   "source": [
    "fig, ax = plt.subplots(figsize=(6, 4))\n",
    "\n",
    "@widgets.interact(n=(0, size-1, 1))\n",
    "def update(n=0):\n",
    "    ax.clear()\n",
    "    prior_alpha, prior_beta = alpha_values[n], beta_values[n]\n",
    "    posterior_alpha, posterior_beta = alpha_values[n+1], beta_values[n+1]\n",
    "    ax.plot(x, stats.beta.pdf(x, prior_alpha, prior_beta), label=f\"a priori: B({prior_alpha}, {prior_beta})\", color='C1')\n",
    "    ax.plot(x, stats.beta.pdf(x, posterior_alpha, posterior_beta), label=f\"a posteriori: B({posterior_alpha}, {posterior_beta})\", color='C0')\n",
    "    ax.axvline(0.7, color=\"red\", label=\"real p\")\n",
    "    ax.axvline(posterior_alpha / (posterior_alpha + posterior_beta), color=\"green\", label=\"posterior mean\", linestyle=\"--\")\n",
    "    upper_bound = stats.beta.ppf(0.025, posterior_alpha, posterior_beta)\n",
    "    lower_bound = stats.beta.ppf(1 - 0.025, posterior_alpha, posterior_beta)\n",
    "    credible = np.linspace(lower_bound, upper_bound)\n",
    "    ax.fill_between(credible, stats.beta.pdf(credible, posterior_alpha, posterior_beta), alpha=0.5, color='C0')\n",
    "    \n",
    "    ax.legend()\n",
    "    ax.set_xlim((0, 1))\n",
    "    ax.grid(True)"
   ]
  }
 ],
 "metadata": {
  "kernelspec": {
   "display_name": "Python 3",
   "language": "python",
   "name": "python3"
  },
  "language_info": {
   "codemirror_mode": {
    "name": "ipython",
    "version": 3
   },
   "file_extension": ".py",
   "mimetype": "text/x-python",
   "name": "python",
   "nbconvert_exporter": "python",
   "pygments_lexer": "ipython3",
   "version": "3.8.6"
  }
 },
 "nbformat": 4,
 "nbformat_minor": 4
}
